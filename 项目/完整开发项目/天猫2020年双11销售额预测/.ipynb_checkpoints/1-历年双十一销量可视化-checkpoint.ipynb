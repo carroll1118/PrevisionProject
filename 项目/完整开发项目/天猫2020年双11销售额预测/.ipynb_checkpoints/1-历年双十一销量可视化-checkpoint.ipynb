{
 "cells": [
  {
   "cell_type": "code",
   "execution_count": 1,
   "metadata": {},
   "outputs": [],
   "source": [
    "import numpy as np\n",
    "\n",
    "import matplotlib.pyplot as plt\n",
    "%matplotlib inline"
   ]
  },
  {
   "cell_type": "code",
   "execution_count": 2,
   "metadata": {},
   "outputs": [
    {
     "data": {
      "text/plain": [
       "array([2009, 2010, 2011, 2012, 2013, 2014, 2015, 2016, 2017, 2018, 2019])"
      ]
     },
     "execution_count": 2,
     "metadata": {},
     "output_type": "execute_result"
    }
   ],
   "source": [
    "years = np.arange(2009,2020)\n",
    "years"
   ]
  },
  {
   "cell_type": "code",
   "execution_count": 4,
   "metadata": {},
   "outputs": [
    {
     "data": {
      "text/plain": [
       "array([5.00000e-01, 9.36000e+00, 5.20000e+01, 1.91000e+02, 3.52000e+02,\n",
       "       5.71000e+02, 9.12000e+02, 1.20800e+03, 1.68269e+03, 2.13500e+03,\n",
       "       2.68400e+03])"
      ]
     },
     "execution_count": 4,
     "metadata": {},
     "output_type": "execute_result"
    }
   ],
   "source": [
    "sales = np.array([0.5,9.36,52,191,352,571,912,1208,1682.69,2135,2684])\n",
    "# 科学技术法\n",
    "sales"
   ]
  },
  {
   "cell_type": "code",
   "execution_count": 5,
   "metadata": {
    "collapsed": true
   },
   "outputs": [
    {
     "data": {
      "text/plain": [
       "[<matplotlib.lines.Line2D at 0x1e261e67208>]"
      ]
     },
     "execution_count": 5,
     "metadata": {},
     "output_type": "execute_result"
    },
    {
     "data": {
      "image/png": "[encoded data removed]",
      "text/plain": [
       "<Figure size 432x288 with 1 Axes>"
      ]
     },
     "metadata": {
      "needs_background": "light"
     },
     "output_type": "display_data"
    }
   ],
   "source": [
    "plt.plot(years,sales,'ro')"
   ]
  },
  {
   "cell_type": "code",
   "execution_count": 6,
   "metadata": {
    "scrolled": false
   },
   "outputs": [
    {
     "data": {
      "text/plain": [
       "<matplotlib.collections.PathCollection at 0x1e2628438d0>"
      ]
     },
     "execution_count": 6,
     "metadata": {},
     "output_type": "execute_result"
    },
    {
     "data": {
      "image/png": "[encoded data removed]",
      "text/plain": [
       "<Figure size 432x288 with 1 Axes>"
      ]
     },
     "metadata": {
      "needs_background": "light"
     },
     "output_type": "display_data"
    }
   ],
   "source": [
    "plt.scatter(years,sales,marker = '*')"
   ]
  },
  {
   "cell_type": "code",
   "execution_count": 7,
   "metadata": {
    "scrolled": true
   },
   "outputs": [
    {
     "data": {
      "text/plain": [
       "[<matplotlib.lines.Line2D at 0x1e2625b32b0>]"
      ]
     },
     "execution_count": 7,
     "metadata": {},
     "output_type": "execute_result"
    },
    {
     "data": {
      "image/png": "[encoded data removed]",
      "text/plain": [
       "<Figure size 432x288 with 1 Axes>"
      ]
     },
     "metadata": {
      "needs_background": "light"
     },
     "output_type": "display_data"
    }
   ],
   "source": [
    "'''character        description\n",
    "=============    ===============================\n",
    "``'.'``          point marker\n",
    "``','``          pixel marker\n",
    "``'o'``          circle marker\n",
    "``'v'``          triangle_down marker\n",
    "``'^'``          triangle_up marker\n",
    "``'<'``          triangle_left marker\n",
    "``'>'``          triangle_right marker\n",
    "``'1'``          tri_down marker\n",
    "``'2'``          tri_up marker\n",
    "``'3'``          tri_left marker\n",
    "``'4'``          tri_right marker\n",
    "``'s'``          square marker\n",
    "``'p'``          pentagon marker\n",
    "``'*'``          star marker\n",
    "``'h'``          hexagon1 marker\n",
    "``'H'``          hexagon2 marker\n",
    "``'+'``          plus marker\n",
    "``'x'``          x marker\n",
    "``'D'``          diamond marker\n",
    "``'d'``          thin_diamond marker\n",
    "``'|'``          vline marker\n",
    "``'_'``          hline marker'''\n",
    "plt.plot(years,sales,'gp')"
   ]
  },
  {
   "cell_type": "markdown",
   "metadata": {},
   "source": [
    "$$f(x) = w1x^3 + w2x^2 + w3x + b$$"
   ]
  },
  {
   "cell_type": "code",
   "execution_count": 8,
   "metadata": {
    "scrolled": true
   },
   "outputs": [
    {
     "data": {
      "text/plain": [
       "[<matplotlib.lines.Line2D at 0x1e26263ec50>]"
      ]
     },
     "execution_count": 8,
     "metadata": {},
     "output_type": "execute_result"
    },
    {
     "data": {
      "image/png": "[encoded data removed]",
      "text/plain": [
       "<Figure size 432x288 with 1 Axes>"
      ]
     },
     "metadata": {
      "needs_background": "light"
     },
     "output_type": "display_data"
    }
   ],
   "source": [
    "# 11年的数据，绘制一条线，走势\n",
    "# ！！！可以使用算法，人工智能预测这条线：函数（抛物线二次幂），三次幂一元方程\n",
    "# f(x) = w1*x**3 + w2*x**2 + w3*x**3 + b\n",
    "plt.plot(years,sales,c = 'purple')"
   ]
  }
 ],
 "metadata": {
  "kernelspec": {
   "display_name": "Python 3",
   "language": "python",
   "name": "python3"
  },
  "language_info": {
   "codemirror_mode": {
    "name": "ipython",
    "version": 3
   },
   "file_extension": ".py",
   "mimetype": "text/x-python",
   "name": "python",
   "nbconvert_exporter": "python",
   "pygments_lexer": "ipython3",
   "version": "3.7.0"
  }
 },
 "nbformat": 4,
 "nbformat_minor": 2
}
